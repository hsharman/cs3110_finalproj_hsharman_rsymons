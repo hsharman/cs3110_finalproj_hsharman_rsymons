{
 "cells": [
  {
   "cell_type": "markdown",
   "metadata": {},
   "source": [
    "# CS 3110/5110: Data Privacy\n",
    "## FINAL PROJECT - Harry Sharman, Ryan Symons"
   ]
  },
  {
   "cell_type": "markdown",
   "metadata": {},
   "source": [
    "* In this projects we will be using a new data set - students.csv - which has columns such as GPA, student ID, email, etc., and we will be using laplace and guassian to keep differential privacy and analyze the results\n",
    "* On a secondary discourse, we will look at how laplace and gaussian preform, and decide which is more efficient for our data set\n",
    "* We included histograns to show a visual representation of our findings\n",
    "* Lastly, we preformed an averaging attack using both sequential and advanced composition"
   ]
  },
  {
   "cell_type": "code",
   "execution_count": 8,
   "metadata": {},
   "outputs": [],
   "source": [
    "# Load the data and libraries\n",
    "import pandas as pd\n",
    "import numpy as np\n",
    "from scipy import stats\n",
    "import matplotlib.pyplot as plt\n",
    "\n",
    "def laplace_mech(v, sensitivity, epsilon):\n",
    "    return v + np.random.laplace(loc=0, scale=sensitivity / epsilon)\n",
    "\n",
    "def laplace_mech_vec(qs, sensitivity, epsilon):\n",
    "    return [laplace_mech(q, sensitivity, epsilon) for q in qs]\n",
    "\n",
    "def gaussian_mech(v, sensitivity, epsilon, delta):\n",
    "    return v + np.random.normal(loc=0, scale=sensitivity * np.sqrt(2*np.log(1.25/delta)) / epsilon)\n",
    "\n",
    "def gaussian_mech_vec(qs, sensitivity, epsilon, delta):\n",
    "    return [gaussian_mech(q, sensitivity, epsilon, delta) for q in qs]\n",
    "\n",
    "def pct_error(orig, priv):\n",
    "    return np.abs(orig - priv)/orig * 100.0\n",
    "\n",
    "student = pd.read_csv('students.csv')"
   ]
  },
  {
   "cell_type": "markdown",
   "metadata": {},
   "source": [
    "## Test laplace and gaussian mechanisms on the data set, and compare them with the original"
   ]
  },
  {
   "cell_type": "code",
   "execution_count": 9,
   "metadata": {},
   "outputs": [
    {
     "data": {
      "text/plain": [
       "30"
      ]
     },
     "execution_count": 9,
     "metadata": {},
     "output_type": "execute_result"
    }
   ],
   "source": [
    "def query1():\n",
    "    return len(student[student['Department'] == 'Mathematics'])\n",
    "\n",
    "query1()"
   ]
  },
  {
   "cell_type": "code",
   "execution_count": 116,
   "metadata": {},
   "outputs": [
    {
     "data": {
      "text/plain": [
       "28.76558088647868"
      ]
     },
     "execution_count": 116,
     "metadata": {},
     "output_type": "execute_result"
    }
   ],
   "source": [
    "def dp_laplace_query1(epsilon):\n",
    "    return laplace_mech(query1(), sensitivity=1,epsilon=epsilon)\n",
    "\n",
    "dp_laplace_query1(0.1)"
   ]
  },
  {
   "cell_type": "code",
   "execution_count": 117,
   "metadata": {},
   "outputs": [
    {
     "data": {
      "text/plain": [
       "17.69225015889777"
      ]
     },
     "execution_count": 117,
     "metadata": {},
     "output_type": "execute_result"
    }
   ],
   "source": [
    "def dp_gaussian_query1(epsilon, delta):\n",
    "    return gaussian_mech(query1(),sensitivity=1,epsilon=epsilon,delta=delta)\n",
    "\n",
    "dp_gaussian_query1(0.1, 10e-5)"
   ]
  },
  {
   "cell_type": "code",
   "execution_count": 126,
   "metadata": {
    "scrolled": true
   },
   "outputs": [
    {
     "data": {
      "image/png": "[encoded data removed]",
      "text/plain": [
       "<Figure size 640x480 with 1 Axes>"
      ]
     },
     "metadata": {},
     "output_type": "display_data"
    }
   ],
   "source": [
    "actual_answers = len(student[student['Department'] == 'Mathematics'])\n",
    "\n",
    "laplace_answers = [laplace_mech(actual_answers, 1, 1) for _ in range(200)]\n",
    "gaussian_answers = [gaussian_mech(actual_answers, 1, 1, 10e-5) for _ in range(200)]\n",
    "\n",
    "laplace_error = [pct_error(actual_answers, a) for a in laplace_answers]\n",
    "gaussian_error = [pct_error(actual_answers, a) for a in gaussian_answers]\n",
    "\n",
    "_, bins, _ = plt.hist(gaussian_error, bins=20, label = 'Gaussian')\n",
    "plt.hist(laplace_error, bins=bins, label='Laplace', alpha = 0.5)\n",
    "plt.legend();\n"
   ]
  },
  {
   "cell_type": "markdown",
   "metadata": {},
   "source": [
    "# ^^^^EXPLAIN THE ABOVE JOEN^^^"
   ]
  },
  {
   "cell_type": "markdown",
   "metadata": {},
   "source": [
    "In the above histogram, graphing laplace and gaussian errors, the laplace mechanism has a higher frequency of lower error and the gaussian mechanism has lower frequency of each error (with a higher distribution of error values).\n",
    "\n",
    "This means that since the distribution of the laplace mechanism is centered more toward 0, the preservation of accuracy for our dataset is higher compared to that of the gaussian mechanism.\n",
    "\n",
    "Since the distribution of the gaussian mechanism is greater, it causes more noise to be added to the queries and in turn 'protecting' privacy 'more' than that of the laplace mechanism."
   ]
  },
  {
   "cell_type": "markdown",
   "metadata": {},
   "source": [
    "## Question 1 (5 points)\n",
    "\n",
    "Implement the `dp_occupation_histogram` function below. It should return a differentially private histogram over the `Occupation` column in the `adult` dataset. Your function should have a total privacy cost of `epsilon` and should use parallel composition."
   ]
  },
  {
   "cell_type": "code",
   "execution_count": 2,
   "metadata": {
    "deletable": false,
    "nbgrader": {
     "cell_type": "code",
     "checksum": "6f676402dc7db9d39911a943bfc4322e",
     "grade": false,
     "grade_id": "cell-7b8cd895f25e6d77",
     "locked": false,
     "schema_version": 3,
     "solution": true,
     "task": false
    }
   },
   "outputs": [
    {
     "data": {
      "text/plain": [
       "Prof-specialty       4139.943721\n",
       "Craft-repair         4099.726735\n",
       "Exec-managerial      4066.572572\n",
       "Adm-clerical         3768.547655\n",
       "Sales                3650.068690\n",
       "Other-service        3294.984203\n",
       "Machine-op-inspct    2001.428708\n",
       "Transport-moving     1595.135689\n",
       "Handlers-cleaners    1371.751072\n",
       "Farming-fishing       993.951059\n",
       "Tech-support          929.448099\n",
       "Protective-serv       648.237717\n",
       "Priv-house-serv       149.506246\n",
       "Armed-Forces            8.150390\n",
       "Name: Occupation, dtype: float64"
      ]
     },
     "execution_count": 2,
     "metadata": {},
     "output_type": "execute_result"
    }
   ],
   "source": [
    "def dp_occupation_histogram(epsilon):\n",
    "    occupation_counts = adult['Occupation'].value_counts()\n",
    "    sensitivity = 1\n",
    "    dp_counts = occupation_counts.apply(lambda count: laplace_mech(count, sensitivity, epsilon))\n",
    "\n",
    "    return dp_counts\n",
    "\n",
    "dp_occupation_histogram(1.0)"
   ]
  },
  {
   "cell_type": "code",
   "execution_count": 3,
   "metadata": {
    "deletable": false,
    "editable": false,
    "nbgrader": {
     "cell_type": "code",
     "checksum": "a33ff0d5dc44cce47225e46bee20f197",
     "grade": true,
     "grade_id": "cell-e017e6677a43b790",
     "locked": true,
     "points": 5,
     "schema_version": 3,
     "solution": false,
     "task": false
    }
   },
   "outputs": [],
   "source": [
    "# TEST CASE\n",
    "hist = adult['Occupation'].value_counts()\n",
    "dp_results = [np.abs(dp_occupation_histogram(1.0)-hist) for _ in range(200)]\n",
    "all_dp_results = [item for sublist in dp_results for item in sublist]\n",
    "spec = [np.random.laplace(loc=0, scale=1/1.0) for _ in range(2000)]\n",
    "assert stats.wasserstein_distance(all_dp_results, spec) < 2\n",
    "assert stats.wasserstein_distance(all_dp_results, spec) > 0\n",
    "\n",
    "dp_results = [np.abs(dp_occupation_histogram(0.01)-hist) for _ in range(200)]\n",
    "all_dp_results = [item for sublist in dp_results for item in sublist]\n",
    "spec = [np.random.laplace(loc=0, scale=1/0.01) for _ in range(2000)]\n",
    "assert stats.wasserstein_distance(all_dp_results, spec) < 150\n",
    "assert stats.wasserstein_distance(all_dp_results, spec) > 50"
   ]
  },
  {
   "cell_type": "markdown",
   "metadata": {},
   "source": [
    "## Question 2 (10 points)\n",
    "\n",
    "In 2-5 sentences each, answer the following:\n",
    "\n",
    "- Argue that your solution for `dp_occupation_histogram` satisfies `epsilon`-differential privacy.\n",
    "- How would your results change (in terms of accuracy) if you used sequential composition instead of parallel composition to implement `dp_occupation_histogram`, and why?\n",
    "- If you partition the data by *both* occupation and age (i.e. a contingency table), would parallel composition still apply? Why or why not?\n",
    "- If you partition the data by both occupation and age, what would happen to accuracy, and why?"
   ]
  },
  {
   "cell_type": "markdown",
   "metadata": {
    "deletable": false,
    "nbgrader": {
     "cell_type": "markdown",
     "checksum": "f5c2cdb843a084ed76ab2acba24a6022",
     "grade": true,
     "grade_id": "cell-dbc4948a9f3092b7",
     "locked": false,
     "points": 10,
     "schema_version": 3,
     "solution": true,
     "task": false
    }
   },
   "source": [
    "- `dp_occupation_histogram` uses the laplace mechanism and parallel composition. We use the entire epsilon budget.\n",
    "- In sequential composition, there would be an accuracy decrease. The noise added to each occupation count would have a larger scale. \n",
    "- No, for parallel composition, the queries need to be disjoint. In the contigency table this would not be the case because an individual can contribute to both occupation and age.\n",
    "- There would be increased noise. The number of queries will increase, and to maintain epsilon dp, the privacy budget would need to be divided accross more queries. "
   ]
  },
  {
   "cell_type": "markdown",
   "metadata": {},
   "source": [
    "## Question 3 (5 points)\n",
    "\n",
    "Consider the code below, which graphs the total privacy cost of an averaging attack under (1) sequential composition and (2) advanced composition, for values of `k` between 1 and 200."
   ]
  },
  {
   "cell_type": "code",
   "execution_count": 4,
   "metadata": {},
   "outputs": [
    {
     "data": {
      "image/png": "[encoded data removed]",
      "text/plain": [
       "<Figure size 640x480 with 1 Axes>"
      ]
     },
     "metadata": {},
     "output_type": "display_data"
    }
   ],
   "source": [
    "epsilon = .1\n",
    "delta_p = 1e-5\n",
    "\n",
    "def query():\n",
    "    return len(adult_data[adult_data['Martial Status'] == 'Divorced'])\n",
    "\n",
    "def avg_attack(k):\n",
    "    return np.mean([laplace_mech(query(), 1, epsilon) for i in range(k)])\n",
    "    \n",
    "xs = range(1, 200)\n",
    "privacy_cost_sequential = [k * epsilon for k in xs]\n",
    "privacy_cost_advanced = [2 * epsilon * np.sqrt(2 * k * np.log(1/delta_p)) for k in xs]\n",
    "\n",
    "plt.plot(xs, privacy_cost_sequential);\n",
    "plt.plot(xs, privacy_cost_advanced);"
   ]
  },
  {
   "cell_type": "markdown",
   "metadata": {},
   "source": [
    "In 2-5 sentences, answer the following:\n",
    "- At approximately what point do the lines representing the two approaches cross? What does this mean about **which** composition technique should be used for an iterative algorithm?\n",
    "- The two lines represent **different** privacy costs for the **same** algorithm. How can both be correct?"
   ]
  },
  {
   "cell_type": "markdown",
   "metadata": {
    "deletable": false,
    "nbgrader": {
     "cell_type": "markdown",
     "checksum": "2b86e17228d608736c37de10704baf28",
     "grade": true,
     "grade_id": "cell-96c736c4b121709d",
     "locked": false,
     "points": 5,
     "schema_version": 3,
     "solution": true,
     "task": false
    }
   },
   "source": [
    "- They cross at about `85`. This means that data with less that `~85` entries should use sequenial comp and data with more than that should used advanced comp\n",
    "- They are both correct because sequential composition adds up privacy costs linearly. Advanced composition does not add up pivacy costs linearly and instead does it this way: `2 * epsilon * np.sqrt(2 * k * np.log(1/delta_p)`"
   ]
  },
  {
   "cell_type": "markdown",
   "metadata": {},
   "source": [
    "## Question 4 (10 points)\n",
    "\n",
    "Consider the code below, which defines three average queries and runs them on `adult_data`, using the Laplace mechanism to provide differential privacy with $\\epsilon = 1$ for each query."
   ]
  },
  {
   "cell_type": "code",
   "execution_count": 6,
   "metadata": {},
   "outputs": [
    {
     "data": {
      "text/plain": [
       "[17145231, 14754, 1256257]"
      ]
     },
     "execution_count": 6,
     "metadata": {},
     "output_type": "execute_result"
    }
   ],
   "source": [
    "b_capgain = 10000\n",
    "b_age = 3000\n",
    "\n",
    "epsilon = 1\n",
    "\n",
    "def query1():\n",
    "    return np.sum(adult['Capital Gain'].clip(lower=0, upper=b_capgain))\n",
    "\n",
    "def query2():\n",
    "    return len(adult[adult['Education-Num'] < 10])\n",
    "\n",
    "def query3():\n",
    "    return np.sum(adult['Age'].clip(lower=0, upper=b_age))\n",
    "\n",
    "def my_query():\n",
    "    return [query1(), query2(), query3()]\n",
    "\n",
    "my_query()"
   ]
  },
  {
   "cell_type": "markdown",
   "metadata": {},
   "source": [
    "In 2-5 sentences, answer the following:\n",
    "- What is the $L_1$ global sensitivity of `my_query`, and why?\n",
    "- What is the $L_2$ global sensitivity of `my_query`, and why?"
   ]
  },
  {
   "cell_type": "markdown",
   "metadata": {
    "deletable": false,
    "nbgrader": {
     "cell_type": "markdown",
     "checksum": "a1fecbfc2c5e53a5c39617488e4292bf",
     "grade": true,
     "grade_id": "cell-ca541a700c703c80",
     "locked": false,
     "points": 10,
     "schema_version": 3,
     "solution": true,
     "task": false
    }
   },
   "source": [
    "- L1 = Maximum changes for each query added = 10,000 + 1 + 3,000 = 13,001\n",
    "- L2 = sqrt(sum of squares)"
   ]
  },
  {
   "cell_type": "markdown",
   "metadata": {},
   "source": [
    "## Question 5 (5 points)\n",
    "\n",
    "In the cell below, write code to release the results of calling `my_query()` with differential privacy, without using sequential composition.\n",
    "\n",
    "*Hint*: use `laplace_mech_vec`, but be careful of sensitivity!"
   ]
  },
  {
   "cell_type": "code",
   "execution_count": 9,
   "metadata": {
    "deletable": false,
    "nbgrader": {
     "cell_type": "code",
     "checksum": "90d082593e8a002a78ea34eeaaf24bef",
     "grade": false,
     "grade_id": "cell-860262f2a5274ade",
     "locked": false,
     "schema_version": 3,
     "solution": true,
     "task": false
    }
   },
   "outputs": [
    {
     "data": {
      "text/plain": [
       "[17141978.432148248, 28532.617396677633, 1258336.2717358768]"
      ]
     },
     "execution_count": 9,
     "metadata": {},
     "output_type": "execute_result"
    }
   ],
   "source": [
    "def my_query_lap(epsilon):\n",
    "    result = my_query()\n",
    "    \n",
    "    sensitivity = 13001\n",
    "    \n",
    "    dp_result = laplace_mech_vec(result, sensitivity, epsilon)\n",
    "    \n",
    "    return dp_result\n",
    "\n",
    "my_query_lap(1.0)"
   ]
  },
  {
   "cell_type": "code",
   "execution_count": null,
   "metadata": {
    "deletable": false,
    "editable": false,
    "nbgrader": {
     "cell_type": "code",
     "checksum": "ef745b628024b2feff7a1384091d1b7b",
     "grade": true,
     "grade_id": "cell-c3699ae0f8329a35",
     "locked": true,
     "points": 5,
     "schema_version": 3,
     "solution": false,
     "task": false
    }
   },
   "outputs": [],
   "source": []
  },
  {
   "cell_type": "markdown",
   "metadata": {},
   "source": [
    "### Question 6 (5 points)\n",
    "\n",
    "In the cell below, write code to release the results of `my_query()` with differential privacy, but using the Gaussian mechanism.\n",
    "\n",
    "*Hint*: remember to use $L_2$ sensitivity"
   ]
  },
  {
   "cell_type": "code",
   "execution_count": 10,
   "metadata": {
    "deletable": false,
    "nbgrader": {
     "cell_type": "code",
     "checksum": "edd8765921e3c37313933c99df0c0c6e",
     "grade": false,
     "grade_id": "cell-a728b9c2e0db4bf9",
     "locked": false,
     "schema_version": 3,
     "solution": true,
     "task": false
    }
   },
   "outputs": [
    {
     "data": {
      "text/plain": [
       "[17146596.577903602, 62743.49687685274, 1159331.4100442787]"
      ]
     },
     "execution_count": 10,
     "metadata": {},
     "output_type": "execute_result"
    }
   ],
   "source": [
    "def my_query_gauss(epsilon, delta):\n",
    "    result = my_query()\n",
    "    sensitivity = 10440 # sum of squares\n",
    "    dp_result = gaussian_mech_vec(result, sensitivity, epsilon, delta)\n",
    "    return dp_result\n",
    "\n",
    "my_query_gauss(1.0, 1e-5)"
   ]
  },
  {
   "cell_type": "code",
   "execution_count": null,
   "metadata": {
    "deletable": false,
    "editable": false,
    "nbgrader": {
     "cell_type": "code",
     "checksum": "65b6c6d524d57cb26fc28a93ef82358e",
     "grade": true,
     "grade_id": "cell-22fe3f0b052c73da",
     "locked": true,
     "points": 5,
     "schema_version": 3,
     "solution": false,
     "task": false
    }
   },
   "outputs": [],
   "source": []
  }
 ],
 "metadata": {
  "kernelspec": {
   "display_name": "Python 3 (ipykernel)",
   "language": "python",
   "name": "python3"
  },
  "language_info": {
   "codemirror_mode": {
    "name": "ipython",
    "version": 3
   },
   "file_extension": ".py",
   "mimetype": "text/x-python",
   "name": "python",
   "nbconvert_exporter": "python",
   "pygments_lexer": "ipython3",
   "version": "3.11.4"
  }
 },
 "nbformat": 4,
 "nbformat_minor": 4
}
